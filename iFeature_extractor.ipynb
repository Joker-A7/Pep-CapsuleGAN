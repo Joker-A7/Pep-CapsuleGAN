{
 "cells": [
  {
   "cell_type": "code",
   "execution_count": 2,
   "metadata": {},
   "outputs": [],
   "source": [
    "# Current directory\n",
    "import os\n",
    "os.chdir('F:\\Work\\Experiment\\pLM4ACE\\model')"
   ]
  },
  {
   "cell_type": "markdown",
   "metadata": {},
   "source": [
    "### 读取蛋白质序列，并转化为fasta文件"
   ]
  },
  {
   "cell_type": "code",
   "execution_count": 3,
   "metadata": {},
   "outputs": [
    {
     "data": {
      "text/plain": [
       "1020"
      ]
     },
     "execution_count": 3,
     "metadata": {},
     "output_type": "execute_result"
    }
   ],
   "source": [
    "import pandas as pd\n",
    "from Bio.Seq import Seq\n",
    "from Bio.SeqRecord import SeqRecord\n",
    "from Bio import SeqIO\n",
    "\n",
    "# 读取csv文件\n",
    "df = pd.read_csv('sequence.csv', header=0, index_col=0)\n",
    "\n",
    "# 获取蛋白质序列列\n",
    "sequences = df['0']\n",
    "\n",
    "# 创建SeqRecord对象\n",
    "records = [SeqRecord(Seq(seq), id=str(seq), description='') for i, seq in enumerate(sequences)]\n",
    "\n",
    "# 写入fasta文件\n",
    "SeqIO.write(records, 'protein_sequences.fasta', 'fasta')"
   ]
  },
  {
   "cell_type": "markdown",
   "metadata": {},
   "source": [
    "### 特征提取"
   ]
  },
  {
   "cell_type": "code",
   "execution_count": 4,
   "metadata": {},
   "outputs": [],
   "source": [
    "# https://github.com/Superzchen/iFeatureOmega-CLI\n",
    "import iFeatureOmegaCLI"
   ]
  },
  {
   "cell_type": "markdown",
   "metadata": {},
   "source": [
    "#### AAC"
   ]
  },
  {
   "cell_type": "code",
   "execution_count": 5,
   "metadata": {},
   "outputs": [
    {
     "name": "stdout",
     "output_type": "stream",
     "text": [
      "(1020, 20)\n"
     ]
    },
    {
     "data": {
      "text/plain": [
       "True"
      ]
     },
     "execution_count": 5,
     "metadata": {},
     "output_type": "execute_result"
    }
   ],
   "source": [
    "# import iFeatureOmegaCLI\n",
    "import iFeatureOmegaCLI\n",
    "\n",
    "# read file\n",
    "protein = iFeatureOmegaCLI.iProtein(\"protein_sequences.fasta\")\n",
    "\n",
    "# display available feature descriptor methods\n",
    "# protein.display_feature_types()\n",
    "\n",
    "# calculate feature descriptors.\n",
    "protein.get_descriptor(\"AAC\")\n",
    "\n",
    "# display the feature descriptors\n",
    "print(protein.encodings.shape)\n",
    "\n",
    "# save feature descriptors\n",
    "protein.to_csv(\"fusion_features\\Data\\single\\AAC.csv\", \"index=False\", header=False)"
   ]
  },
  {
   "cell_type": "markdown",
   "metadata": {},
   "source": [
    "#### DPC"
   ]
  },
  {
   "cell_type": "code",
   "execution_count": 6,
   "metadata": {},
   "outputs": [
    {
     "name": "stdout",
     "output_type": "stream",
     "text": [
      "(1020, 400)\n"
     ]
    },
    {
     "data": {
      "text/plain": [
       "True"
      ]
     },
     "execution_count": 6,
     "metadata": {},
     "output_type": "execute_result"
    }
   ],
   "source": [
    "import iFeatureOmegaCLI\n",
    "protein = iFeatureOmegaCLI.iProtein(\"protein_sequences.fasta\")\n",
    "protein.get_descriptor(\"DPC type 1\") # normoalized=True\n",
    "print(protein.encodings.shape)\n",
    "protein.to_csv(\"fusion_features\\Data\\single\\DPC.csv\", \"index=False\", header=False)"
   ]
  },
  {
   "cell_type": "markdown",
   "metadata": {},
   "source": [
    "#### CTDC"
   ]
  },
  {
   "cell_type": "code",
   "execution_count": 7,
   "metadata": {},
   "outputs": [
    {
     "name": "stdout",
     "output_type": "stream",
     "text": [
      "(1020, 39)\n"
     ]
    },
    {
     "data": {
      "text/plain": [
       "True"
      ]
     },
     "execution_count": 7,
     "metadata": {},
     "output_type": "execute_result"
    }
   ],
   "source": [
    "import iFeatureOmegaCLI\n",
    "protein = iFeatureOmegaCLI.iProtein(\"protein_sequences.fasta\")\n",
    "protein.get_descriptor(\"CTDC\")\n",
    "print(protein.encodings.shape)\n",
    "protein.to_csv(\"fusion_features\\Data\\single\\CTDC.csv\", \"index=False\", header=False)"
   ]
  },
  {
   "cell_type": "markdown",
   "metadata": {},
   "source": [
    "#### CTDT"
   ]
  },
  {
   "cell_type": "code",
   "execution_count": 8,
   "metadata": {},
   "outputs": [
    {
     "name": "stdout",
     "output_type": "stream",
     "text": [
      "(1020, 39)\n"
     ]
    },
    {
     "data": {
      "text/plain": [
       "True"
      ]
     },
     "execution_count": 8,
     "metadata": {},
     "output_type": "execute_result"
    }
   ],
   "source": [
    "import iFeatureOmegaCLI\n",
    "protein = iFeatureOmegaCLI.iProtein(\"protein_sequences.fasta\")\n",
    "protein.get_descriptor(\"CTDT\")\n",
    "print(protein.encodings.shape)\n",
    "protein.to_csv(\"fusion_features\\Data\\single\\CTDT.csv\", \"index=False\", header=False)"
   ]
  },
  {
   "cell_type": "markdown",
   "metadata": {},
   "source": [
    "#### CTDD"
   ]
  },
  {
   "cell_type": "code",
   "execution_count": 9,
   "metadata": {},
   "outputs": [
    {
     "name": "stdout",
     "output_type": "stream",
     "text": [
      "(1020, 195)\n"
     ]
    },
    {
     "data": {
      "text/plain": [
       "True"
      ]
     },
     "execution_count": 9,
     "metadata": {},
     "output_type": "execute_result"
    }
   ],
   "source": [
    "import iFeatureOmegaCLI\n",
    "protein = iFeatureOmegaCLI.iProtein(\"protein_sequences.fasta\")\n",
    "protein.get_descriptor(\"CTDD\")\n",
    "print(protein.encodings.shape)\n",
    "protein.to_csv(\"fusion_features\\Data\\single\\CTDD.csv\", \"index=False\", header=False)"
   ]
  },
  {
   "cell_type": "markdown",
   "metadata": {},
   "source": [
    "#### GAAC"
   ]
  },
  {
   "cell_type": "code",
   "execution_count": 10,
   "metadata": {},
   "outputs": [
    {
     "name": "stdout",
     "output_type": "stream",
     "text": [
      "(1020, 5)\n"
     ]
    },
    {
     "data": {
      "text/plain": [
       "True"
      ]
     },
     "execution_count": 10,
     "metadata": {},
     "output_type": "execute_result"
    }
   ],
   "source": [
    "import iFeatureOmegaCLI\n",
    "protein = iFeatureOmegaCLI.iProtein(\"protein_sequences.fasta\")\n",
    "protein.get_descriptor(\"GAAC\")\n",
    "print(protein.encodings.shape)\n",
    "protein.to_csv(\"fusion_features\\Data\\single\\GAAC.csv\", \"index=False\", header=False)"
   ]
  },
  {
   "cell_type": "markdown",
   "metadata": {},
   "source": [
    "#### GDPC"
   ]
  },
  {
   "cell_type": "code",
   "execution_count": 11,
   "metadata": {},
   "outputs": [
    {
     "name": "stdout",
     "output_type": "stream",
     "text": [
      "(1020, 25)\n"
     ]
    },
    {
     "data": {
      "text/plain": [
       "True"
      ]
     },
     "execution_count": 11,
     "metadata": {},
     "output_type": "execute_result"
    }
   ],
   "source": [
    "import iFeatureOmegaCLI\n",
    "protein = iFeatureOmegaCLI.iProtein(\"protein_sequences.fasta\")\n",
    "protein.get_descriptor(\"GDPC type 1\")\n",
    "print(protein.encodings.shape)\n",
    "protein.to_csv(\"fusion_features\\Data\\single\\GDPC.csv\", \"index=False\", header=False)"
   ]
  },
  {
   "cell_type": "markdown",
   "metadata": {},
   "source": [
    "#### ASDC"
   ]
  },
  {
   "cell_type": "code",
   "execution_count": 12,
   "metadata": {},
   "outputs": [
    {
     "name": "stdout",
     "output_type": "stream",
     "text": [
      "(1020, 400)\n"
     ]
    },
    {
     "data": {
      "text/plain": [
       "True"
      ]
     },
     "execution_count": 12,
     "metadata": {},
     "output_type": "execute_result"
    }
   ],
   "source": [
    "import iFeatureOmegaCLI\n",
    "protein = iFeatureOmegaCLI.iProtein(\"protein_sequences.fasta\")\n",
    "protein.get_descriptor(\"ASDC\")\n",
    "print(protein.encodings.shape)\n",
    "protein.to_csv(\"fusion_features\\Data\\single\\ASDC.csv\", \"index=False\", header=False)"
   ]
  },
  {
   "cell_type": "markdown",
   "metadata": {},
   "source": [
    "### 对序列进行填充"
   ]
  },
  {
   "cell_type": "code",
   "execution_count": 20,
   "metadata": {},
   "outputs": [
    {
     "name": "stdout",
     "output_type": "stream",
     "text": [
      "最长的序列长度是： 28\n"
     ]
    }
   ],
   "source": [
    "# 获得fasta文件中蛋白质序列的最大长度\n",
    "from Bio import SeqIO\n",
    "\n",
    "def find_max_length(fasta_file):\n",
    "    max_length = 0\n",
    "    for record in SeqIO.parse(fasta_file, \"fasta\"):\n",
    "        if len(record.seq) > max_length:\n",
    "            max_length = len(record.seq)\n",
    "    return max_length\n",
    "\n",
    "fasta_file = \"sequences.fasta\"  # fasta文件路径\n",
    "max_length = find_max_length(fasta_file)\n",
    "print(\"最长的序列长度是：\", max_length)"
   ]
  },
  {
   "cell_type": "code",
   "execution_count": 16,
   "metadata": {},
   "outputs": [],
   "source": [
    "def pad_or_truncate(sequence, target_length):\n",
    "    # 如果序列长度小于目标长度，则进行填充\n",
    "    if len(sequence) < target_length:\n",
    "        return sequence.ljust(target_length, 'X')\n",
    "    # 如果序列长度大于目标长度，则进行截断\n",
    "    else:\n",
    "        return sequence[:target_length]"
   ]
  },
  {
   "cell_type": "code",
   "execution_count": 17,
   "metadata": {},
   "outputs": [],
   "source": [
    "from Bio import Seq\n",
    "from Bio import SeqIO\n",
    "\n",
    "def pad_sequences_in_fasta(input_file, output_file, target_length):\n",
    "    with open(output_file, 'w') as out_f:\n",
    "        for record in SeqIO.parse(input_file, 'fasta'):\n",
    "            padded_sequence = pad_or_truncate(str(record.seq), target_length)\n",
    "            record.seq = Seq.Seq(padded_sequence)\n",
    "            SeqIO.write(record, out_f, 'fasta')\n",
    "\n",
    "input_file = 'protein_sequences.fasta'\n",
    "output_file = 'sequences.fasta'\n",
    "target_length = max_length  # or whatever length you want\n",
    "pad_sequences_in_fasta(input_file, output_file, target_length)"
   ]
  },
  {
   "cell_type": "markdown",
   "metadata": {},
   "source": [
    "#### Binary"
   ]
  },
  {
   "cell_type": "code",
   "execution_count": 21,
   "metadata": {},
   "outputs": [
    {
     "name": "stdout",
     "output_type": "stream",
     "text": [
      "            Binary_1  Binary_2  Binary_3  Binary_4  Binary_5  Binary_6  \\\n",
      "MDFLI            0.0       0.0       0.0       0.0       0.0       0.0   \n",
      "MFDL             0.0       0.0       0.0       0.0       0.0       0.0   \n",
      "MDLA             0.0       0.0       0.0       0.0       0.0       0.0   \n",
      "LIVTQ            0.0       0.0       0.0       0.0       0.0       0.0   \n",
      "LIVT             0.0       0.0       0.0       0.0       0.0       0.0   \n",
      "...              ...       ...       ...       ...       ...       ...   \n",
      "YAEER            0.0       0.0       0.0       0.0       0.0       0.0   \n",
      "YPF              0.0       0.0       0.0       0.0       0.0       0.0   \n",
      "YPGIA            0.0       0.0       0.0       0.0       0.0       0.0   \n",
      "YPIL             0.0       0.0       0.0       0.0       0.0       0.0   \n",
      "YRGGLEPINF       0.0       0.0       0.0       0.0       0.0       0.0   \n",
      "\n",
      "            Binary_7  Binary_8  Binary_9  Binary_10  ...  Binary_551  \\\n",
      "MDFLI            0.0       0.0       0.0        0.0  ...         0.0   \n",
      "MFDL             0.0       0.0       0.0        0.0  ...         0.0   \n",
      "MDLA             0.0       0.0       0.0        0.0  ...         0.0   \n",
      "LIVTQ            0.0       0.0       0.0        0.0  ...         0.0   \n",
      "LIVT             0.0       0.0       0.0        0.0  ...         0.0   \n",
      "...              ...       ...       ...        ...  ...         ...   \n",
      "YAEER            0.0       0.0       0.0        0.0  ...         0.0   \n",
      "YPF              0.0       0.0       0.0        0.0  ...         0.0   \n",
      "YPGIA            0.0       0.0       0.0        0.0  ...         0.0   \n",
      "YPIL             0.0       0.0       0.0        0.0  ...         0.0   \n",
      "YRGGLEPINF       0.0       0.0       0.0        0.0  ...         0.0   \n",
      "\n",
      "            Binary_552  Binary_553  Binary_554  Binary_555  Binary_556  \\\n",
      "MDFLI              0.0         0.0         0.0         0.0         0.0   \n",
      "MFDL               0.0         0.0         0.0         0.0         0.0   \n",
      "MDLA               0.0         0.0         0.0         0.0         0.0   \n",
      "LIVTQ              0.0         0.0         0.0         0.0         0.0   \n",
      "LIVT               0.0         0.0         0.0         0.0         0.0   \n",
      "...                ...         ...         ...         ...         ...   \n",
      "YAEER              0.0         0.0         0.0         0.0         0.0   \n",
      "YPF                0.0         0.0         0.0         0.0         0.0   \n",
      "YPGIA              0.0         0.0         0.0         0.0         0.0   \n",
      "YPIL               0.0         0.0         0.0         0.0         0.0   \n",
      "YRGGLEPINF         0.0         0.0         0.0         0.0         0.0   \n",
      "\n",
      "            Binary_557  Binary_558  Binary_559  Binary_560  \n",
      "MDFLI              0.0         0.0         0.0         0.0  \n",
      "MFDL               0.0         0.0         0.0         0.0  \n",
      "MDLA               0.0         0.0         0.0         0.0  \n",
      "LIVTQ              0.0         0.0         0.0         0.0  \n",
      "LIVT               0.0         0.0         0.0         0.0  \n",
      "...                ...         ...         ...         ...  \n",
      "YAEER              0.0         0.0         0.0         0.0  \n",
      "YPF                0.0         0.0         0.0         0.0  \n",
      "YPGIA              0.0         0.0         0.0         0.0  \n",
      "YPIL               0.0         0.0         0.0         0.0  \n",
      "YRGGLEPINF         0.0         0.0         0.0         0.0  \n",
      "\n",
      "[1020 rows x 560 columns]\n"
     ]
    },
    {
     "data": {
      "text/plain": [
       "True"
      ]
     },
     "execution_count": 21,
     "metadata": {},
     "output_type": "execute_result"
    }
   ],
   "source": [
    "import iFeatureOmegaCLI\n",
    "protein = iFeatureOmegaCLI.iProtein(\"sequences.fasta\")\n",
    "protein.get_descriptor(\"binary\")\n",
    "print(protein.encodings)\n",
    "protein.to_csv(\"fusion_features\\Data\\single\\one-hot.csv\", \"index=False\", header=False)"
   ]
  },
  {
   "cell_type": "markdown",
   "metadata": {},
   "source": [
    "#### AAIdex"
   ]
  },
  {
   "cell_type": "code",
   "execution_count": 23,
   "metadata": {},
   "outputs": [
    {
     "name": "stdout",
     "output_type": "stream",
     "text": [
      "            AAindex_p.1.ANDN920101  AAindex_p.1.ARGP820101  \\\n",
      "MDFLI                         4.52                    1.18   \n",
      "MFDL                          4.52                    1.18   \n",
      "MDLA                          4.52                    1.18   \n",
      "LIVTQ                         4.17                    1.53   \n",
      "LIVT                          4.17                    1.53   \n",
      "...                            ...                     ...   \n",
      "YAEER                         4.60                    1.88   \n",
      "YPF                           4.60                    1.88   \n",
      "YPGIA                         4.60                    1.88   \n",
      "YPIL                          4.60                    1.88   \n",
      "YRGGLEPINF                    4.60                    1.88   \n",
      "\n",
      "            AAindex_p.1.ARGP820102  AAindex_p.1.ARGP820103  \\\n",
      "MDFLI                         2.67                    2.96   \n",
      "MFDL                          2.67                    2.96   \n",
      "MDLA                          2.67                    2.96   \n",
      "LIVTQ                         3.23                    2.93   \n",
      "LIVT                          3.23                    2.93   \n",
      "...                            ...                     ...   \n",
      "YAEER                         0.39                    0.68   \n",
      "YPF                           0.39                    0.68   \n",
      "YPGIA                         0.39                    0.68   \n",
      "YPIL                          0.39                    0.68   \n",
      "YRGGLEPINF                    0.39                    0.68   \n",
      "\n",
      "            AAindex_p.1.BEGF750101  AAindex_p.1.BEGF750102  \\\n",
      "MDFLI                         1.00                    0.98   \n",
      "MFDL                          1.00                    0.98   \n",
      "MDLA                          1.00                    0.98   \n",
      "LIVTQ                         1.00                    0.83   \n",
      "LIVT                          1.00                    0.83   \n",
      "...                            ...                     ...   \n",
      "YAEER                         0.44                    0.83   \n",
      "YPF                           0.44                    0.83   \n",
      "YPGIA                         0.44                    0.83   \n",
      "YPIL                          0.44                    0.83   \n",
      "YRGGLEPINF                    0.44                    0.83   \n",
      "\n",
      "            AAindex_p.1.BEGF750103  AAindex_p.1.BHAR880101  \\\n",
      "MDFLI                         0.64                   0.295   \n",
      "MFDL                          0.64                   0.295   \n",
      "MDLA                          0.64                   0.295   \n",
      "LIVTQ                         0.53                   0.365   \n",
      "LIVT                          0.53                   0.365   \n",
      "...                            ...                     ...   \n",
      "YAEER                         0.84                   0.420   \n",
      "YPF                           0.84                   0.420   \n",
      "YPGIA                         0.84                   0.420   \n",
      "YPIL                          0.84                   0.420   \n",
      "YRGGLEPINF                    0.84                   0.420   \n",
      "\n",
      "            AAindex_p.2.ANDN920101  AAindex_p.2.ARGP820101  ...  \\\n",
      "MDFLI                         4.76                    0.46  ...   \n",
      "MFDL                          4.66                    2.02  ...   \n",
      "MDLA                          4.76                    0.46  ...   \n",
      "LIVTQ                         3.95                    2.22  ...   \n",
      "LIVT                          3.95                    2.22  ...   \n",
      "...                            ...                     ...  ...   \n",
      "YAEER                         4.35                    0.61  ...   \n",
      "YPF                           4.44                    1.95  ...   \n",
      "YPGIA                         4.44                    1.95  ...   \n",
      "YPIL                          4.44                    1.95  ...   \n",
      "YRGGLEPINF                    4.38                    0.60  ...   \n",
      "\n",
      "            AAindex_p.27.BEGF750103  AAindex_p.27.BHAR880101  \\\n",
      "MDFLI                           0.0                      0.0   \n",
      "MFDL                            0.0                      0.0   \n",
      "MDLA                            0.0                      0.0   \n",
      "LIVTQ                           0.0                      0.0   \n",
      "LIVT                            0.0                      0.0   \n",
      "...                             ...                      ...   \n",
      "YAEER                           0.0                      0.0   \n",
      "YPF                             0.0                      0.0   \n",
      "YPGIA                           0.0                      0.0   \n",
      "YPIL                            0.0                      0.0   \n",
      "YRGGLEPINF                      0.0                      0.0   \n",
      "\n",
      "            AAindex_p.28.ANDN920101  AAindex_p.28.ARGP820101  \\\n",
      "MDFLI                           0.0                      0.0   \n",
      "MFDL                            0.0                      0.0   \n",
      "MDLA                            0.0                      0.0   \n",
      "LIVTQ                           0.0                      0.0   \n",
      "LIVT                            0.0                      0.0   \n",
      "...                             ...                      ...   \n",
      "YAEER                           0.0                      0.0   \n",
      "YPF                             0.0                      0.0   \n",
      "YPGIA                           0.0                      0.0   \n",
      "YPIL                            0.0                      0.0   \n",
      "YRGGLEPINF                      0.0                      0.0   \n",
      "\n",
      "            AAindex_p.28.ARGP820102  AAindex_p.28.ARGP820103  \\\n",
      "MDFLI                           0.0                      0.0   \n",
      "MFDL                            0.0                      0.0   \n",
      "MDLA                            0.0                      0.0   \n",
      "LIVTQ                           0.0                      0.0   \n",
      "LIVT                            0.0                      0.0   \n",
      "...                             ...                      ...   \n",
      "YAEER                           0.0                      0.0   \n",
      "YPF                             0.0                      0.0   \n",
      "YPGIA                           0.0                      0.0   \n",
      "YPIL                            0.0                      0.0   \n",
      "YRGGLEPINF                      0.0                      0.0   \n",
      "\n",
      "            AAindex_p.28.BEGF750101  AAindex_p.28.BEGF750102  \\\n",
      "MDFLI                           0.0                      0.0   \n",
      "MFDL                            0.0                      0.0   \n",
      "MDLA                            0.0                      0.0   \n",
      "LIVTQ                           0.0                      0.0   \n",
      "LIVT                            0.0                      0.0   \n",
      "...                             ...                      ...   \n",
      "YAEER                           0.0                      0.0   \n",
      "YPF                             0.0                      0.0   \n",
      "YPGIA                           0.0                      0.0   \n",
      "YPIL                            0.0                      0.0   \n",
      "YRGGLEPINF                      0.0                      0.0   \n",
      "\n",
      "            AAindex_p.28.BEGF750103  AAindex_p.28.BHAR880101  \n",
      "MDFLI                           0.0                      0.0  \n",
      "MFDL                            0.0                      0.0  \n",
      "MDLA                            0.0                      0.0  \n",
      "LIVTQ                           0.0                      0.0  \n",
      "LIVT                            0.0                      0.0  \n",
      "...                             ...                      ...  \n",
      "YAEER                           0.0                      0.0  \n",
      "YPF                             0.0                      0.0  \n",
      "YPGIA                           0.0                      0.0  \n",
      "YPIL                            0.0                      0.0  \n",
      "YRGGLEPINF                      0.0                      0.0  \n",
      "\n",
      "[1020 rows x 224 columns]\n"
     ]
    },
    {
     "data": {
      "text/plain": [
       "True"
      ]
     },
     "execution_count": 23,
     "metadata": {},
     "output_type": "execute_result"
    }
   ],
   "source": [
    "import iFeatureOmegaCLI\n",
    "protein = iFeatureOmegaCLI.iProtein(\"sequences.fasta\")\n",
    "protein.get_descriptor(\"AAIndex\")\n",
    "print(protein.encodings)\n",
    "protein.to_csv(\"fusion_features\\Data\\single\\AAI.csv\", \"index=False\", header=False)"
   ]
  },
  {
   "cell_type": "markdown",
   "metadata": {},
   "source": [
    "#### OPF_10bit"
   ]
  },
  {
   "cell_type": "code",
   "execution_count": 24,
   "metadata": {},
   "outputs": [
    {
     "name": "stdout",
     "output_type": "stream",
     "text": [
      "            OPF_p1_Aromatic  OPF_p1_Negative  OPF_p1_Positive  OPF_p1_Polar  \\\n",
      "MDFLI                   0.0              0.0              0.0           0.0   \n",
      "MFDL                    0.0              0.0              0.0           0.0   \n",
      "MDLA                    0.0              0.0              0.0           0.0   \n",
      "LIVTQ                   0.0              0.0              0.0           0.0   \n",
      "LIVT                    0.0              0.0              0.0           0.0   \n",
      "...                     ...              ...              ...           ...   \n",
      "YAEER                   1.0              0.0              0.0           1.0   \n",
      "YPF                     1.0              0.0              0.0           1.0   \n",
      "YPGIA                   1.0              0.0              0.0           1.0   \n",
      "YPIL                    1.0              0.0              0.0           1.0   \n",
      "YRGGLEPINF              1.0              0.0              0.0           1.0   \n",
      "\n",
      "            OPF_p1_Hydrophobic  OPF_p1_Aliphatic  OPF_p1_Tiny  OPF_p1_Charged  \\\n",
      "MDFLI                      1.0               0.0          0.0             0.0   \n",
      "MFDL                       1.0               0.0          0.0             0.0   \n",
      "MDLA                       1.0               0.0          0.0             0.0   \n",
      "LIVTQ                      1.0               1.0          0.0             0.0   \n",
      "LIVT                       1.0               1.0          0.0             0.0   \n",
      "...                        ...               ...          ...             ...   \n",
      "YAEER                      1.0               0.0          0.0             0.0   \n",
      "YPF                        1.0               0.0          0.0             0.0   \n",
      "YPGIA                      1.0               0.0          0.0             0.0   \n",
      "YPIL                       1.0               0.0          0.0             0.0   \n",
      "YRGGLEPINF                 1.0               0.0          0.0             0.0   \n",
      "\n",
      "            OPF_p1_Small  OPF_p1_Proline  ...  OPF_p28_Aromatic  \\\n",
      "MDFLI                0.0             0.0  ...               0.0   \n",
      "MFDL                 0.0             0.0  ...               0.0   \n",
      "MDLA                 0.0             0.0  ...               0.0   \n",
      "LIVTQ                0.0             0.0  ...               0.0   \n",
      "LIVT                 0.0             0.0  ...               0.0   \n",
      "...                  ...             ...  ...               ...   \n",
      "YAEER                0.0             0.0  ...               0.0   \n",
      "YPF                  0.0             0.0  ...               0.0   \n",
      "YPGIA                0.0             0.0  ...               0.0   \n",
      "YPIL                 0.0             0.0  ...               0.0   \n",
      "YRGGLEPINF           0.0             0.0  ...               0.0   \n",
      "\n",
      "            OPF_p28_Negative  OPF_p28_Positive  OPF_p28_Polar  \\\n",
      "MDFLI                    0.0               0.0            0.0   \n",
      "MFDL                     0.0               0.0            0.0   \n",
      "MDLA                     0.0               0.0            0.0   \n",
      "LIVTQ                    0.0               0.0            0.0   \n",
      "LIVT                     0.0               0.0            0.0   \n",
      "...                      ...               ...            ...   \n",
      "YAEER                    0.0               0.0            0.0   \n",
      "YPF                      0.0               0.0            0.0   \n",
      "YPGIA                    0.0               0.0            0.0   \n",
      "YPIL                     0.0               0.0            0.0   \n",
      "YRGGLEPINF               0.0               0.0            0.0   \n",
      "\n",
      "            OPF_p28_Hydrophobic  OPF_p28_Aliphatic  OPF_p28_Tiny  \\\n",
      "MDFLI                       0.0                0.0           0.0   \n",
      "MFDL                        0.0                0.0           0.0   \n",
      "MDLA                        0.0                0.0           0.0   \n",
      "LIVTQ                       0.0                0.0           0.0   \n",
      "LIVT                        0.0                0.0           0.0   \n",
      "...                         ...                ...           ...   \n",
      "YAEER                       0.0                0.0           0.0   \n",
      "YPF                         0.0                0.0           0.0   \n",
      "YPGIA                       0.0                0.0           0.0   \n",
      "YPIL                        0.0                0.0           0.0   \n",
      "YRGGLEPINF                  0.0                0.0           0.0   \n",
      "\n",
      "            OPF_p28_Charged  OPF_p28_Small  OPF_p28_Proline  \n",
      "MDFLI                   0.0            0.0              0.0  \n",
      "MFDL                    0.0            0.0              0.0  \n",
      "MDLA                    0.0            0.0              0.0  \n",
      "LIVTQ                   0.0            0.0              0.0  \n",
      "LIVT                    0.0            0.0              0.0  \n",
      "...                     ...            ...              ...  \n",
      "YAEER                   0.0            0.0              0.0  \n",
      "YPF                     0.0            0.0              0.0  \n",
      "YPGIA                   0.0            0.0              0.0  \n",
      "YPIL                    0.0            0.0              0.0  \n",
      "YRGGLEPINF              0.0            0.0              0.0  \n",
      "\n",
      "[1020 rows x 280 columns]\n"
     ]
    },
    {
     "data": {
      "text/plain": [
       "True"
      ]
     },
     "execution_count": 24,
     "metadata": {},
     "output_type": "execute_result"
    }
   ],
   "source": [
    "import iFeatureOmegaCLI\n",
    "protein = iFeatureOmegaCLI.iProtein(\"sequences.fasta\")\n",
    "protein.get_descriptor(\"OPF_10bit\")\n",
    "print(protein.encodings)\n",
    "protein.to_csv(\"fusion_features\\Data\\single\\OPF.csv\", \"index=False\", header=False)"
   ]
  },
  {
   "cell_type": "markdown",
   "metadata": {},
   "source": [
    "#### PseAAC"
   ]
  },
  {
   "cell_type": "code",
   "execution_count": 25,
   "metadata": {},
   "outputs": [
    {
     "name": "stdout",
     "output_type": "stream",
     "text": [
      "File imported successfully.\n",
      "            PAAC_Xc1.A  PAAC_Xc1.R  PAAC_Xc1.N  PAAC_Xc1.D  PAAC_Xc1.C  \\\n",
      "MDFLI         0.000000    0.000000    0.000000    0.909473         0.0   \n",
      "MFDL          0.000000    0.000000    0.000000    0.874117         0.0   \n",
      "MDLA          0.894401    0.000000    0.000000    0.894401         0.0   \n",
      "LIVTQ         0.000000    0.000000    0.000000    0.000000         0.0   \n",
      "LIVT          0.000000    0.000000    0.000000    0.000000         0.0   \n",
      "...                ...         ...         ...         ...         ...   \n",
      "YAEER         0.909922    0.909922    0.000000    0.000000         0.0   \n",
      "YPF           0.000000    0.000000    0.000000    0.000000         0.0   \n",
      "YPGIA         0.935922    0.000000    0.000000    0.000000         0.0   \n",
      "YPIL          0.000000    0.000000    0.000000    0.000000         0.0   \n",
      "YRGGLEPINF    0.000000    0.878128    0.878128    0.000000         0.0   \n",
      "\n",
      "            PAAC_Xc1.Q  PAAC_Xc1.E  PAAC_Xc1.G  PAAC_Xc1.H  PAAC_Xc1.I  ...  \\\n",
      "MDFLI          0.00000    0.000000    0.000000         0.0    0.909473  ...   \n",
      "MFDL           0.00000    0.000000    0.000000         0.0    0.000000  ...   \n",
      "MDLA           0.00000    0.000000    0.000000         0.0    0.000000  ...   \n",
      "LIVTQ          0.98475    0.000000    0.000000         0.0    0.984750  ...   \n",
      "LIVT           0.00000    0.000000    0.000000         0.0    0.988267  ...   \n",
      "...                ...         ...         ...         ...         ...  ...   \n",
      "YAEER          0.00000    1.819844    0.000000         0.0    0.000000  ...   \n",
      "YPF            0.00000    0.000000    0.000000         0.0    0.000000  ...   \n",
      "YPGIA          0.00000    0.000000    0.935922         0.0    0.935922  ...   \n",
      "YPIL           0.00000    0.000000    0.000000         0.0    0.951738  ...   \n",
      "YRGGLEPINF     0.00000    0.878128    1.756256         0.0    0.878128  ...   \n",
      "\n",
      "            PAAC_Xc1.K  PAAC_Xc1.M  PAAC_Xc1.F  PAAC_Xc1.P  PAAC_Xc1.S  \\\n",
      "MDFLI              0.0    0.909473    0.909473    0.000000         0.0   \n",
      "MFDL               0.0    0.874117    0.874117    0.000000         0.0   \n",
      "MDLA               0.0    0.894401    0.000000    0.000000         0.0   \n",
      "LIVTQ              0.0    0.000000    0.000000    0.000000         0.0   \n",
      "LIVT               0.0    0.000000    0.000000    0.000000         0.0   \n",
      "...                ...         ...         ...         ...         ...   \n",
      "YAEER              0.0    0.000000    0.000000    0.000000         0.0   \n",
      "YPF                0.0    0.000000    0.910422    0.910422         0.0   \n",
      "YPGIA              0.0    0.000000    0.000000    0.935922         0.0   \n",
      "YPIL               0.0    0.000000    0.000000    0.951738         0.0   \n",
      "YRGGLEPINF         0.0    0.000000    0.878128    0.878128         0.0   \n",
      "\n",
      "            PAAC_Xc1.T  PAAC_Xc1.W  PAAC_Xc1.Y  PAAC_Xc1.V  PAAC_Xc2.lambda1  \n",
      "MDFLI         0.000000         0.0    0.000000    0.000000          0.090527  \n",
      "MFDL          0.000000         0.0    0.000000    0.000000          0.125883  \n",
      "MDLA          0.000000         0.0    0.000000    0.000000          0.105599  \n",
      "LIVTQ         0.984750         0.0    0.000000    0.984750          0.015250  \n",
      "LIVT          0.988267         0.0    0.000000    0.988267          0.011733  \n",
      "...                ...         ...         ...         ...               ...  \n",
      "YAEER         0.000000         0.0    0.909922    0.000000          0.090078  \n",
      "YPF           0.000000         0.0    0.910422    0.000000          0.089578  \n",
      "YPGIA         0.000000         0.0    0.935922    0.000000          0.064078  \n",
      "YPIL          0.000000         0.0    0.951738    0.000000          0.048262  \n",
      "YRGGLEPINF    0.000000         0.0    0.878128    0.000000          0.121872  \n",
      "\n",
      "[1020 rows x 21 columns]\n"
     ]
    },
    {
     "data": {
      "text/plain": [
       "True"
      ]
     },
     "execution_count": 25,
     "metadata": {},
     "output_type": "execute_result"
    }
   ],
   "source": [
    "import iFeatureOmegaCLI\n",
    "protein = iFeatureOmegaCLI.iProtein(\"protein_sequences.fasta\")\n",
    "protein.import_parameters(\"Protein_parameters_setting.json\")\n",
    "protein.get_descriptor(\"PAAC\")\n",
    "print(protein.encodings)\n",
    "protein.to_csv(\"fusion_features\\Data\\single\\PseAAC.csv\", \"index=False\", header=False)"
   ]
  },
  {
   "cell_type": "markdown",
   "metadata": {},
   "source": [
    "### extract the sequence as a singular fasta txt file, for feature extraction"
   ]
  },
  {
   "cell_type": "code",
   "execution_count": null,
   "metadata": {},
   "outputs": [],
   "source": [
    "# split the csv file into singular fasta files\n",
    "import pandas as pd\n",
    "# lodaing sequence infoeg\n",
    "seq_list_filename = 'sequence_after_Cleanlab.csv'\n",
    "# read original y information NOTICE: must use the same sample size xlsx file for y extraction\n",
    "seq_all  = pd.read_csv(seq_list_filename, index_col=0)\n",
    "for i in range(seq_all.shape[0]):\n",
    "    seq = seq_all.iloc[i][0]\n",
    "    # print(seq)\n",
    "    seq_temp = '>'+seq+'\\n' + seq + '\\n'\n",
    "    # create a new file to write the pdb info.\n",
    "    folder_name = 'sequences'   # Change file save location\n",
    "    file_name_temp = folder_name + '/' + seq+'.txt'\n",
    "    f = open(file_name_temp, mode='w')\n",
    "    for line in seq_temp:\n",
    "        f.write(line)\n",
    "    f.close()"
   ]
  },
  {
   "cell_type": "markdown",
   "metadata": {},
   "source": [
    "#### OPF_10bit"
   ]
  },
  {
   "cell_type": "code",
   "execution_count": null,
   "metadata": {},
   "outputs": [],
   "source": [
    "import pandas as pd\n",
    "import glob\n",
    "# read and storage all the txt file name in working directory\n",
    "pdbqt_name = glob.glob(\"sequences/*.txt\")\n",
    "print(len(pdbqt_name))\n",
    "\n",
    "# pep_embeddings_collection = singular_pep\n",
    "import iFeatureOmegaCLI\n",
    "\n",
    "# Initialize pep_embeddings_collection as an empty DataFrame\n",
    "pep_embeddings_collection = pd.DataFrame()\n",
    "\n",
    "for file_name in pdbqt_name:\n",
    "    pep = iFeatureOmegaCLI.iProtein(file_name)\n",
    "    pep.get_descriptor(\"OPF_10bit\")\n",
    "    singular_pep = pep.encodings\n",
    "    singular_extrac_N_and_C = pd.concat([singular_pep.iloc[0][0:10],singular_pep.iloc[0][-10:]],axis=0, ignore_index = True)\n",
    "    pep_embeddings_collection = pd.concat([pep_embeddings_collection,singular_extrac_N_and_C],axis=1)\n",
    "    # Notice： delete the first row of the output csv, since it is duplicate with the last row\n",
    "\n",
    "pep_embeddings_collection.shape"
   ]
  },
  {
   "cell_type": "code",
   "execution_count": null,
   "metadata": {},
   "outputs": [],
   "source": [
    "pep_embeddings_collection.shape\n",
    "pep_embeddings_collection.T.to_csv('OPF/OPF_10bit_NandC_only.csv', sep=',')\n"
   ]
  },
  {
   "cell_type": "markdown",
   "metadata": {},
   "source": [
    "#### AAIndex"
   ]
  },
  {
   "cell_type": "code",
   "execution_count": null,
   "metadata": {},
   "outputs": [],
   "source": [
    "import pandas as pd\n",
    "import glob\n",
    "# read and storage all the txt file name in working directory\n",
    "pdbqt_name = glob.glob(\"sequences/*.txt\")\n",
    "print(len(pdbqt_name))\n",
    "\n",
    "# pep_embeddings_collection = singular_pep\n",
    "import iFeatureOmegaCLI\n",
    "\n",
    "# Initialize pep_embeddings_collection as an empty DataFrame\n",
    "pep_embeddings_collection = pd.DataFrame()\n",
    "\n",
    "for file_name in pdbqt_name:\n",
    "    pep = iFeatureOmegaCLI.iProtein(file_name)\n",
    "    pep.get_descriptor(\"AAIndex\")\n",
    "    singular_pep = pep.encodings\n",
    "    singular_extrac_N_and_C = pd.concat([singular_pep.iloc[0][0:8],singular_pep.iloc[0][-8:]],axis=0, ignore_index = True)\n",
    "    pep_embeddings_collection = pd.concat([pep_embeddings_collection,singular_extrac_N_and_C],axis=1)\n",
    "    # Notice： delete the first row of the output csv, since it is duplicate with the last row\n",
    "\n",
    "pep_embeddings_collection.shape"
   ]
  },
  {
   "cell_type": "code",
   "execution_count": null,
   "metadata": {},
   "outputs": [],
   "source": [
    "pep_embeddings_collection.shape\n",
    "pep_embeddings_collection.T.to_csv('AAI/AAIndex_8_features.csv', sep=',')"
   ]
  },
  {
   "cell_type": "markdown",
   "metadata": {},
   "source": [
    "#### PseAAC"
   ]
  },
  {
   "cell_type": "code",
   "execution_count": null,
   "metadata": {},
   "outputs": [],
   "source": [
    "import pandas as pd\n",
    "import glob\n",
    "# read and storage all the txt file name in working directory\n",
    "pdbqt_name = glob.glob(\"sequences/*.txt\")\n",
    "print(len(pdbqt_name))\n",
    "\n",
    "# pep_embeddings_collection = singular_pep\n",
    "import iFeatureOmegaCLI\n",
    "\n",
    "# Initialize pep_embeddings_collection as an empty DataFrame\n",
    "pep_embeddings_collection = pd.DataFrame()\n",
    "\n",
    "for file_name in pdbqt_name:\n",
    "    pep = iFeatureOmegaCLI.iProtein(file_name)\n",
    "    pep.import_parameters(\"Protein_parameters_setting.json\")\n",
    "    pep.get_descriptor(\"PAAC\")\n",
    "    singular_pep = pep.encodings\n",
    "    pep_embeddings_collection = pd.concat([pep_embeddings_collection, singular_pep])\n",
    "    # Notice: delete the first row of the output csv, since it is duplicate with the last row\n",
    "\n",
    "pep_embeddings_collection.shape"
   ]
  },
  {
   "cell_type": "code",
   "execution_count": null,
   "metadata": {},
   "outputs": [],
   "source": [
    "print(pep_embeddings_collection.shape)\n",
    "pep_embeddings_collection.to_csv('PAAC/PseAAC_21_dimension_lambda-1,weight-0.05.csv')"
   ]
  }
 ],
 "metadata": {
  "kernelspec": {
   "display_name": "pytorch",
   "language": "python",
   "name": "python3"
  },
  "language_info": {
   "codemirror_mode": {
    "name": "ipython",
    "version": 3
   },
   "file_extension": ".py",
   "mimetype": "text/x-python",
   "name": "python",
   "nbconvert_exporter": "python",
   "pygments_lexer": "ipython3",
   "version": "3.9.18"
  }
 },
 "nbformat": 4,
 "nbformat_minor": 2
}
