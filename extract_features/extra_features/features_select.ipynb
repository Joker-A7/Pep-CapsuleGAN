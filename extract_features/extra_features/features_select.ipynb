{
 "cells": [
  {
   "cell_type": "code",
   "execution_count": null,
   "metadata": {},
   "outputs": [],
   "source": [
    "import os\n",
    "os.chdir('F:\\Work\\Experiment\\pLM4ACE\\model')"
   ]
  },
  {
   "cell_type": "markdown",
   "metadata": {},
   "source": [
    "### PCA"
   ]
  },
  {
   "cell_type": "code",
   "execution_count": null,
   "metadata": {},
   "outputs": [],
   "source": [
    "# 使用主成分分析选择最佳的主成分数量\n",
    "import pandas as pd\n",
    "import numpy as np\n",
    "from sklearn.decomposition import PCA\n",
    "from sklearn.preprocessing import StandardScaler\n",
    "import matplotlib.pyplot as plt\n",
    "\n",
    "# 加载数据\n",
    "# 假设我们的数据存储在'peptide_sequences.csv'文件中，每一行代表一个肽，每一列代表一个特征\n",
    "data = pd.read_csv(r'fusion_features\\Data\\fusion\\All_features.csv', header=None, index_col=False)\n",
    "\n",
    "# 预处理数据\n",
    "# 假设我们的数据没有缺失值，我们只需要进行标准化\n",
    "scaler = StandardScaler()\n",
    "data_scaled = scaler.fit_transform(data)\n",
    "\n",
    "# 进行PCA，但这次我们不指定主成分的数量，这样PCA会保留所有的主成分\n",
    "pca = PCA()\n",
    "pca.fit(data_scaled)\n",
    "\n",
    "# 计算累积解释方差比例\n",
    "cumulative_variance_ratio = np.cumsum(pca.explained_variance_ratio_)\n",
    "\n",
    "# 生成累积解释方差比例图\n",
    "plt.figure(figsize=(10, 7))\n",
    "plt.plot(range(1, len(cumulative_variance_ratio)+1), cumulative_variance_ratio)\n",
    "plt.xlabel('Number of Components')\n",
    "plt.ylabel('Cumulative Explained Variance')\n",
    "plt.show()"
   ]
  },
  {
   "cell_type": "code",
   "execution_count": null,
   "metadata": {},
   "outputs": [],
   "source": [
    "import pandas as pd\n",
    "import numpy as np\n",
    "from sklearn.decomposition import PCA\n",
    "from sklearn.preprocessing import StandardScaler\n",
    "\n",
    "# 加载数据\n",
    "# 假设我们的数据存储在'peptide_sequences.csv'文件中，每一行代表一个肽，每一列代表一个特征\n",
    "data = pd.read_csv(r'fusion_features\\Data\\fusion\\All_features.csv', header=None, index_col=False)\n",
    "\n",
    "# 预处理数据\n",
    "# 假设我们的数据没有缺失值，我们只需要进行标准化\n",
    "scaler = StandardScaler()\n",
    "data_scaled = scaler.fit_transform(data)\n",
    "\n",
    "# 进行PCA\n",
    "pca = PCA(n_components=800)  # 我们将保留前n个主成分\n",
    "principalComponents = pca.fit_transform(data_scaled)\n",
    "\n",
    "# 查看结果\n",
    "print('Explained variance ratio:', pca.explained_variance_ratio_)\n",
    "\n",
    "# 将主成分转换为DataFrame\n",
    "principalDf = pd.DataFrame(data=principalComponents)\n",
    "\n",
    "# 保存为CSV文件\n",
    "principalDf.to_csv(r'fusion_features\\Data\\features_select\\PCA_All.csv', index=False, header=None)"
   ]
  },
  {
   "cell_type": "markdown",
   "metadata": {},
   "source": [
    "### mRMR"
   ]
  },
  {
   "cell_type": "code",
   "execution_count": null,
   "metadata": {},
   "outputs": [],
   "source": [
    "import numpy as np\n",
    "import pandas as pd\n",
    "from sklearn.preprocessing import StandardScaler\n",
    "\n",
    "X = pd.read_csv(r\"fusion_features\\Data\\fusion\\All_features.csv\", index_col=None, header=None)\n",
    "y = pd.read_csv(r\"fusion_features\\Data\\label.csv\", index_col=None, header=None)\n",
    "\n",
    "print(X.shape)\n",
    "print(y.shape)\n",
    "print(np.count_nonzero(y==0))\n",
    "print(np.count_nonzero(y==1))"
   ]
  },
  {
   "cell_type": "code",
   "execution_count": null,
   "metadata": {},
   "outputs": [],
   "source": [
    "# select top n features using mRMR\n",
    "from mrmr import mrmr_classif\n",
    "selected_features = mrmr_classif(X=X, y=y, K=1000)\n",
    "\n",
    "# 选择所有特征\n",
    "X_selected = X[selected_features]\n",
    "\n",
    "# 转换为DataFrame\n",
    "df = pd.DataFrame(X_selected)\n",
    "\n",
    "# 保存为CSV文件\n",
    "df.to_csv(r'fusion_features\\Data\\features_select\\mRMR_All_1000.csv', index=False, header=None)"
   ]
  },
  {
   "cell_type": "code",
   "execution_count": null,
   "metadata": {},
   "outputs": [],
   "source": [
    "# 测试\n",
    "K = pd.read_csv(r\"fusion_features\\Data\\features_select\\mRMR_All_1000.csv\", index_col=None, header=None)\n",
    "print(K.shape)"
   ]
  },
  {
   "cell_type": "markdown",
   "metadata": {},
   "source": [
    "### ElasticNet"
   ]
  },
  {
   "cell_type": "code",
   "execution_count": null,
   "metadata": {},
   "outputs": [],
   "source": [
    "from sklearn.linear_model import ElasticNet, ElasticNetCV\n",
    "import pandas as pd\n",
    "import numpy as np\n",
    "from numpy import loadtxt\n",
    "\n",
    "# 加载数据\n",
    "X = pd.read_csv(r\"fusion_features\\Data\\fusion\\All_features.csv\", index_col=None, header=None)\n",
    "y = loadtxt('fusion_features\\Data\\label.csv', delimiter=',')\n",
    "\n",
    "print(X.shape)\n",
    "print(y.shape)\n",
    "print(np.count_nonzero(y==0))\n",
    "print(np.count_nonzero(y==1))\n",
    "\n",
    "# 定义弹性网络交叉验证模型\n",
    "model_cv = ElasticNetCV(l1_ratio=[.1, .5, .7, .9, .95, .99, 1], alphas=[0.01, 0.1, 1.0, 10.0], cv=10)\n",
    "\n",
    "# 训练模型\n",
    "model_cv.fit(X, y)\n",
    "\n",
    "# 输出最佳的alpha和l1_ratio\n",
    "print('Best alpha: ', model_cv.alpha_)\n",
    "print('Best l1_ratio: ', model_cv.l1_ratio_)\n",
    "\n",
    "# 使用最佳参数训练模型\n",
    "model = ElasticNet(alpha=model_cv.alpha_, l1_ratio=model_cv.l1_ratio_)\n",
    "model.fit(X, y)\n",
    "\n",
    "# 获取特征重要性\n",
    "importance = model.coef_\n"
   ]
  },
  {
   "cell_type": "code",
   "execution_count": null,
   "metadata": {},
   "outputs": [],
   "source": [
    "# 获取重要特征的索引\n",
    "important_features_indices = [i for i, coef in enumerate(importance) if coef != 0]\n",
    "\n",
    "# 创建只包含重要特征的数据集\n",
    "X_important = X.iloc[:, important_features_indices]\n",
    "print(X_important)\n",
    "\n",
    "# 转换为DataFrame\n",
    "df = pd.DataFrame(X_important)\n",
    "\n",
    "# 保存为CSV文件\n",
    "df.to_csv(r'fusion_features\\Data\\features_select\\EN_All.csv', index=False, header=None)"
   ]
  },
  {
   "cell_type": "markdown",
   "metadata": {},
   "source": [
    "### 结尾"
   ]
  }
 ],
 "metadata": {
  "kernelspec": {
   "display_name": "pytorch",
   "language": "python",
   "name": "python3"
  },
  "language_info": {
   "codemirror_mode": {
    "name": "ipython",
    "version": 3
   },
   "file_extension": ".py",
   "mimetype": "text/x-python",
   "name": "python",
   "nbconvert_exporter": "python",
   "pygments_lexer": "ipython3",
   "version": "3.9.18"
  }
 },
 "nbformat": 4,
 "nbformat_minor": 2
}
