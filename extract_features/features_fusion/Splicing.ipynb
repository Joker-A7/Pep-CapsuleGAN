{
 "cells": [
  {
   "cell_type": "code",
   "execution_count": 2,
   "metadata": {},
   "outputs": [],
   "source": [
    "import os\n",
    "os.chdir('F:\\Work\\Experiment\\pLM4ACE\\model')"
   ]
  },
  {
   "cell_type": "markdown",
   "metadata": {},
   "source": [
    "### Feature fusion"
   ]
  },
  {
   "cell_type": "code",
   "execution_count": 5,
   "metadata": {},
   "outputs": [
    {
     "name": "stdout",
     "output_type": "stream",
     "text": [
      "(1020, 20)\n",
      "(1020, 224)\n",
      "(1020, 400)\n",
      "(1020, 39)\n",
      "(1020, 195)\n",
      "(1020, 39)\n",
      "(1020, 400)\n",
      "(1020, 320)\n",
      "(1020, 5)\n",
      "(1020, 25)\n",
      "(1020, 560)\n",
      "(1020, 280)\n",
      "(1020, 1024)\n",
      "(1020, 21)\n",
      "(1020, 1344)\n",
      "(1020, 2208)\n"
     ]
    }
   ],
   "source": [
    "import pandas as pd\n",
    "\n",
    "# 读取csv文件\n",
    "df1 = pd.read_csv('fusion_features\\Data\\single\\AAC.csv', header=None, delimiter=',', index_col=0)\n",
    "df2 = pd.read_csv('fusion_features\\Data\\single\\AAI.csv', header=None, delimiter=',', index_col=0)\n",
    "df3 = pd.read_csv('fusion_features\\Data\\single\\ASDC.csv', header=None, delimiter=',', index_col=0)\n",
    "df4 = pd.read_csv('fusion_features\\Data\\single\\CTDC.csv', header=None, delimiter=',', index_col=0)\n",
    "df5 = pd.read_csv('fusion_features\\Data\\single\\CTDD.csv', header=None, delimiter=',', index_col=0)\n",
    "df6 = pd.read_csv('fusion_features\\Data\\single\\CTDT.csv', header=None, delimiter=',', index_col=0)\n",
    "df7 = pd.read_csv('fusion_features\\Data\\single\\DPC.csv', header=None, delimiter=',', index_col=0)\n",
    "df8 = pd.read_csv('fusion_features\\Data\\single\\ESM.csv', header=None, delimiter=',', index_col=0)\n",
    "df9 = pd.read_csv('fusion_features\\Data\\single\\GAAC.csv', header=None, delimiter=',', index_col=0)\n",
    "df10 = pd.read_csv('fusion_features\\Data\\single\\GDPC.csv', header=None, delimiter=',', index_col=0)\n",
    "df11 = pd.read_csv('fusion_features\\Data\\single\\one-hot.csv', header=None, delimiter=',', index_col=0)\n",
    "df12 = pd.read_csv('fusion_features\\Data\\single\\OPF.csv', header=None, delimiter=',', index_col=0)\n",
    "df13 = pd.read_csv('fusion_features\\Data\\single\\PortT5.csv', header=None, delimiter=',', index_col=0)\n",
    "df14 = pd.read_csv('fusion_features\\Data\\single\\PseAAC.csv', header=None, delimiter=',', index_col=0)\n",
    "print(df1.shape)\n",
    "print(df2.shape)\n",
    "print(df3.shape)\n",
    "print(df4.shape)\n",
    "print(df5.shape)\n",
    "print(df6.shape)\n",
    "print(df7.shape)\n",
    "print(df8.shape)\n",
    "print(df9.shape)\n",
    "print(df10.shape)\n",
    "print(df11.shape)\n",
    "print(df12.shape)\n",
    "print(df13.shape)\n",
    "print(df14.shape)\n",
    "\n",
    "# 连接DataFrame\n",
    "merged_df0 = pd.concat([df8, df13], axis=1)\n",
    "merged_df1 = pd.concat([df1, df2, df3, df4, df5, df6, df7, df9, df10, df11, df12, df14], axis=1)\n",
    "print(merged_df0.shape)\n",
    "print(merged_df1.shape)\n",
    "\n",
    "# 保存为csv文件\n",
    "merged_df0.to_csv(r'fusion_features\\Data\\fusion\\ESM_PortT5.csv', index=False, header=None)\n",
    "merged_df1.to_csv(r'fusion_features\\Data\\fusion\\traditional_features.csv', index=False, header=None)"
   ]
  },
  {
   "cell_type": "code",
   "execution_count": 6,
   "metadata": {},
   "outputs": [
    {
     "name": "stdout",
     "output_type": "stream",
     "text": [
      "(1020, 1344)\n",
      "(1020, 2208)\n",
      "(1020, 3552)\n"
     ]
    }
   ],
   "source": [
    "import pandas as pd\n",
    "\n",
    "# 读取csv文件\n",
    "df1 = pd.read_csv(r'fusion_features\\Data\\fusion\\ESM_PortT5.csv', header=None, delimiter=',', index_col=False)\n",
    "df2 = pd.read_csv(r'fusion_features\\Data\\fusion\\traditional_features.csv', header=None, delimiter=',', index_col=False)\n",
    "print(df1.shape)\n",
    "print(df2.shape)\n",
    "\n",
    "# 连接DataFrame\n",
    "merged_df = pd.concat([df1, df2], axis=1)\n",
    "print(merged_df.shape)\n",
    "\n",
    "# 保存为csv文件\n",
    "merged_df.to_csv(r'fusion_features\\Data\\fusion\\All_features.csv', index=False, header=False)"
   ]
  }
 ],
 "metadata": {
  "kernelspec": {
   "display_name": "pytorch",
   "language": "python",
   "name": "python3"
  },
  "language_info": {
   "codemirror_mode": {
    "name": "ipython",
    "version": 3
   },
   "file_extension": ".py",
   "mimetype": "text/x-python",
   "name": "python",
   "nbconvert_exporter": "python",
   "pygments_lexer": "ipython3",
   "version": "3.9.18"
  }
 },
 "nbformat": 4,
 "nbformat_minor": 2
}
